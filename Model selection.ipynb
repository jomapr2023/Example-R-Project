{
 "cells": [
  {
   "cell_type": "markdown",
   "id": "ccfe1bb6-68e9-4120-85b7-5422dd03d320",
   "metadata": {},
   "source": [
    "Select a model for demand estimation"
   ]
  },
  {
   "cell_type": "code",
   "execution_count": 1,
   "id": "be31a4c3-87d3-4b62-9661-184227e5385e",
   "metadata": {},
   "outputs": [
    {
     "name": "stderr",
     "output_type": "stream",
     "text": [
      "── \u001b[1mAttaching packages\u001b[22m ────────────────────────────────────── tidymodels 1.2.0 ──\n",
      "\n",
      "\u001b[32m✔\u001b[39m \u001b[34mbroom       \u001b[39m 1.0.5      \u001b[32m✔\u001b[39m \u001b[34mrecipes     \u001b[39m 1.0.10\n",
      "\u001b[32m✔\u001b[39m \u001b[34mdials       \u001b[39m 1.2.1      \u001b[32m✔\u001b[39m \u001b[34mrsample     \u001b[39m 1.2.1 \n",
      "\u001b[32m✔\u001b[39m \u001b[34mdplyr       \u001b[39m 1.1.4      \u001b[32m✔\u001b[39m \u001b[34mtibble      \u001b[39m 3.2.1 \n",
      "\u001b[32m✔\u001b[39m \u001b[34mggplot2     \u001b[39m 3.5.0      \u001b[32m✔\u001b[39m \u001b[34mtidyr       \u001b[39m 1.3.1 \n",
      "\u001b[32m✔\u001b[39m \u001b[34minfer       \u001b[39m 1.0.7      \u001b[32m✔\u001b[39m \u001b[34mtune        \u001b[39m 1.2.0 \n",
      "\u001b[32m✔\u001b[39m \u001b[34mmodeldata   \u001b[39m 1.3.0      \u001b[32m✔\u001b[39m \u001b[34mworkflows   \u001b[39m 1.1.4 \n",
      "\u001b[32m✔\u001b[39m \u001b[34mparsnip     \u001b[39m 1.2.1      \u001b[32m✔\u001b[39m \u001b[34mworkflowsets\u001b[39m 1.1.0 \n",
      "\u001b[32m✔\u001b[39m \u001b[34mpurrr       \u001b[39m 1.0.2      \u001b[32m✔\u001b[39m \u001b[34myardstick   \u001b[39m 1.3.1 \n",
      "\n",
      "── \u001b[1mConflicts\u001b[22m ───────────────────────────────────────── tidymodels_conflicts() ──\n",
      "\u001b[31m✖\u001b[39m \u001b[34mpurrr\u001b[39m::\u001b[32mdiscard()\u001b[39m masks \u001b[34mscales\u001b[39m::discard()\n",
      "\u001b[31m✖\u001b[39m \u001b[34mdplyr\u001b[39m::\u001b[32mfilter()\u001b[39m  masks \u001b[34mstats\u001b[39m::filter()\n",
      "\u001b[31m✖\u001b[39m \u001b[34mdplyr\u001b[39m::\u001b[32mlag()\u001b[39m     masks \u001b[34mstats\u001b[39m::lag()\n",
      "\u001b[31m✖\u001b[39m \u001b[34mrecipes\u001b[39m::\u001b[32mstep()\u001b[39m  masks \u001b[34mstats\u001b[39m::step()\n",
      "\u001b[34m•\u001b[39m Dig deeper into tidy modeling with R at \u001b[32mhttps://www.tmwr.org\u001b[39m\n",
      "\n",
      "── \u001b[1mAttaching core tidyverse packages\u001b[22m ──────────────────────── tidyverse 2.0.0 ──\n",
      "\u001b[32m✔\u001b[39m \u001b[34mforcats  \u001b[39m 1.0.0     \u001b[32m✔\u001b[39m \u001b[34mreadr    \u001b[39m 2.1.4\n",
      "\u001b[32m✔\u001b[39m \u001b[34mlubridate\u001b[39m 1.9.3     \u001b[32m✔\u001b[39m \u001b[34mstringr  \u001b[39m 1.5.0\n",
      "── \u001b[1mConflicts\u001b[22m ────────────────────────────────────────── tidyverse_conflicts() ──\n",
      "\u001b[31m✖\u001b[39m \u001b[34mreadr\u001b[39m::\u001b[32mcol_factor()\u001b[39m masks \u001b[34mscales\u001b[39m::col_factor()\n",
      "\u001b[31m✖\u001b[39m \u001b[34mpurrr\u001b[39m::\u001b[32mdiscard()\u001b[39m    masks \u001b[34mscales\u001b[39m::discard()\n",
      "\u001b[31m✖\u001b[39m \u001b[34mdplyr\u001b[39m::\u001b[32mfilter()\u001b[39m     masks \u001b[34mstats\u001b[39m::filter()\n",
      "\u001b[31m✖\u001b[39m \u001b[34mstringr\u001b[39m::\u001b[32mfixed()\u001b[39m    masks \u001b[34mrecipes\u001b[39m::fixed()\n",
      "\u001b[31m✖\u001b[39m \u001b[34mdplyr\u001b[39m::\u001b[32mlag()\u001b[39m        masks \u001b[34mstats\u001b[39m::lag()\n",
      "\u001b[31m✖\u001b[39m \u001b[34mreadr\u001b[39m::\u001b[32mspec()\u001b[39m       masks \u001b[34myardstick\u001b[39m::spec()\n",
      "\u001b[36mℹ\u001b[39m Use the conflicted package (\u001b[3m\u001b[34m<http://conflicted.r-lib.org/>\u001b[39m\u001b[23m) to force all conflicts to become errors\n",
      "\n",
      "Attaching package: ‘xgboost’\n",
      "\n",
      "\n",
      "The following object is masked from ‘package:dplyr’:\n",
      "\n",
      "    slice\n",
      "\n",
      "\n",
      "\n",
      "Attaching package: ‘vip’\n",
      "\n",
      "\n",
      "The following object is masked from ‘package:utils’:\n",
      "\n",
      "    vi\n",
      "\n",
      "\n"
     ]
    }
   ],
   "source": [
    "#install.packages(\"rlang\")\n",
    "#install.packages(\"tidymodels\")\n",
    "#install.packages(\"tidyverse\")\n",
    "#install.packages(\"poissonreg\")\n",
    "#install.packages(\"ranger\")\n",
    "#install.packages(\"xgboost\")\n",
    "#install.packages(\"vip\")\n",
    "\n",
    "library(tidymodels)\n",
    "library(tidyverse)\n",
    "library(stringr)\n",
    "library(poissonreg)\n",
    "library(ranger)\n",
    "library(xgboost)\n",
    "library(vip)"
   ]
  },
  {
   "cell_type": "markdown",
   "id": "5df8a485-392d-4596-a4fb-29b4d9ab3dc9",
   "metadata": {},
   "source": [
    "Read in data on weather, time, and bike rental data for Seoul. Note that this is an exercise. In practice, models should either incorporate local data, or estimate a model that accounts for a distribution of city characteristics."
   ]
  },
  {
   "cell_type": "code",
   "execution_count": 2,
   "id": "d0a6a726-7e8f-4a7b-aa89-6dcce5b5e7e8",
   "metadata": {},
   "outputs": [
    {
     "name": "stderr",
     "output_type": "stream",
     "text": [
      "\u001b[1mRows: \u001b[22m\u001b[34m8465\u001b[39m \u001b[1mColumns: \u001b[22m\u001b[34m41\u001b[39m\n",
      "\u001b[36m──\u001b[39m \u001b[1mColumn specification\u001b[22m \u001b[36m────────────────────────────────────────────────────────\u001b[39m\n",
      "\u001b[1mDelimiter:\u001b[22m \",\"\n",
      "\u001b[31mchr\u001b[39m  (2): DATE, FUNCTIONING_DAY\n",
      "\u001b[32mdbl\u001b[39m (39): RENTED_BIKE_COUNT, TEMPERATURE, HUMIDITY, WIND_SPEED, VISIBILITY, ...\n",
      "\n",
      "\u001b[36mℹ\u001b[39m Use `spec()` to retrieve the full column specification for this data.\n",
      "\u001b[36mℹ\u001b[39m Specify the column types or set `show_col_types = FALSE` to quiet this message.\n"
     ]
    },
    {
     "name": "stdout",
     "output_type": "stream",
     "text": [
      "Rows: 8,465\n",
      "Columns: 34\n",
      "$ DATE              \u001b[3m\u001b[90m<chr>\u001b[39m\u001b[23m \"01/12/2017\", \"01/12/2017\", \"01/12/2017\", \"01/12/201…\n",
      "$ RENTED_BIKE_COUNT \u001b[3m\u001b[90m<dbl>\u001b[39m\u001b[23m 254, 204, 173, 107, 78, 100, 181, 460, 930, 490, 339…\n",
      "$ TEMPERATURE       \u001b[3m\u001b[90m<dbl>\u001b[39m\u001b[23m 0.2202797, 0.2150350, 0.2062937, 0.2027972, 0.206293…\n",
      "$ HUMIDITY          \u001b[3m\u001b[90m<dbl>\u001b[39m\u001b[23m 0.3775510, 0.3877551, 0.3979592, 0.4081633, 0.367346…\n",
      "$ WIND_SPEED        \u001b[3m\u001b[90m<dbl>\u001b[39m\u001b[23m 0.29729730, 0.10810811, 0.13513514, 0.12162162, 0.31…\n",
      "$ VISIBILITY        \u001b[3m\u001b[90m<dbl>\u001b[39m\u001b[23m 1.0000000, 1.0000000, 1.0000000, 1.0000000, 1.000000…\n",
      "$ `0`               \u001b[3m\u001b[90m<dbl>\u001b[39m\u001b[23m 1, 0, 0, 0, 0, 0, 0, 0, 0, 0, 0, 0, 0, 0, 0, 0, 0, 0…\n",
      "$ `1`               \u001b[3m\u001b[90m<dbl>\u001b[39m\u001b[23m 0, 1, 0, 0, 0, 0, 0, 0, 0, 0, 0, 0, 0, 0, 0, 0, 0, 0…\n",
      "$ `10`              \u001b[3m\u001b[90m<dbl>\u001b[39m\u001b[23m 0, 0, 0, 0, 0, 0, 0, 0, 0, 0, 1, 0, 0, 0, 0, 0, 0, 0…\n",
      "$ `11`              \u001b[3m\u001b[90m<dbl>\u001b[39m\u001b[23m 0, 0, 0, 0, 0, 0, 0, 0, 0, 0, 0, 1, 0, 0, 0, 0, 0, 0…\n",
      "$ `12`              \u001b[3m\u001b[90m<dbl>\u001b[39m\u001b[23m 0, 0, 0, 0, 0, 0, 0, 0, 0, 0, 0, 0, 1, 0, 0, 0, 0, 0…\n",
      "$ `13`              \u001b[3m\u001b[90m<dbl>\u001b[39m\u001b[23m 0, 0, 0, 0, 0, 0, 0, 0, 0, 0, 0, 0, 0, 1, 0, 0, 0, 0…\n",
      "$ `14`              \u001b[3m\u001b[90m<dbl>\u001b[39m\u001b[23m 0, 0, 0, 0, 0, 0, 0, 0, 0, 0, 0, 0, 0, 0, 1, 0, 0, 0…\n",
      "$ `15`              \u001b[3m\u001b[90m<dbl>\u001b[39m\u001b[23m 0, 0, 0, 0, 0, 0, 0, 0, 0, 0, 0, 0, 0, 0, 0, 1, 0, 0…\n",
      "$ `16`              \u001b[3m\u001b[90m<dbl>\u001b[39m\u001b[23m 0, 0, 0, 0, 0, 0, 0, 0, 0, 0, 0, 0, 0, 0, 0, 0, 1, 0…\n",
      "$ `17`              \u001b[3m\u001b[90m<dbl>\u001b[39m\u001b[23m 0, 0, 0, 0, 0, 0, 0, 0, 0, 0, 0, 0, 0, 0, 0, 0, 0, 1…\n",
      "$ `18`              \u001b[3m\u001b[90m<dbl>\u001b[39m\u001b[23m 0, 0, 0, 0, 0, 0, 0, 0, 0, 0, 0, 0, 0, 0, 0, 0, 0, 0…\n",
      "$ `19`              \u001b[3m\u001b[90m<dbl>\u001b[39m\u001b[23m 0, 0, 0, 0, 0, 0, 0, 0, 0, 0, 0, 0, 0, 0, 0, 0, 0, 0…\n",
      "$ `2`               \u001b[3m\u001b[90m<dbl>\u001b[39m\u001b[23m 0, 0, 1, 0, 0, 0, 0, 0, 0, 0, 0, 0, 0, 0, 0, 0, 0, 0…\n",
      "$ `20`              \u001b[3m\u001b[90m<dbl>\u001b[39m\u001b[23m 0, 0, 0, 0, 0, 0, 0, 0, 0, 0, 0, 0, 0, 0, 0, 0, 0, 0…\n",
      "$ `21`              \u001b[3m\u001b[90m<dbl>\u001b[39m\u001b[23m 0, 0, 0, 0, 0, 0, 0, 0, 0, 0, 0, 0, 0, 0, 0, 0, 0, 0…\n",
      "$ `22`              \u001b[3m\u001b[90m<dbl>\u001b[39m\u001b[23m 0, 0, 0, 0, 0, 0, 0, 0, 0, 0, 0, 0, 0, 0, 0, 0, 0, 0…\n",
      "$ `23`              \u001b[3m\u001b[90m<dbl>\u001b[39m\u001b[23m 0, 0, 0, 0, 0, 0, 0, 0, 0, 0, 0, 0, 0, 0, 0, 0, 0, 0…\n",
      "$ `3`               \u001b[3m\u001b[90m<dbl>\u001b[39m\u001b[23m 0, 0, 0, 1, 0, 0, 0, 0, 0, 0, 0, 0, 0, 0, 0, 0, 0, 0…\n",
      "$ `4`               \u001b[3m\u001b[90m<dbl>\u001b[39m\u001b[23m 0, 0, 0, 0, 1, 0, 0, 0, 0, 0, 0, 0, 0, 0, 0, 0, 0, 0…\n",
      "$ `5`               \u001b[3m\u001b[90m<dbl>\u001b[39m\u001b[23m 0, 0, 0, 0, 0, 1, 0, 0, 0, 0, 0, 0, 0, 0, 0, 0, 0, 0…\n",
      "$ `6`               \u001b[3m\u001b[90m<dbl>\u001b[39m\u001b[23m 0, 0, 0, 0, 0, 0, 1, 0, 0, 0, 0, 0, 0, 0, 0, 0, 0, 0…\n",
      "$ `7`               \u001b[3m\u001b[90m<dbl>\u001b[39m\u001b[23m 0, 0, 0, 0, 0, 0, 0, 1, 0, 0, 0, 0, 0, 0, 0, 0, 0, 0…\n",
      "$ `8`               \u001b[3m\u001b[90m<dbl>\u001b[39m\u001b[23m 0, 0, 0, 0, 0, 0, 0, 0, 1, 0, 0, 0, 0, 0, 0, 0, 0, 0…\n",
      "$ `9`               \u001b[3m\u001b[90m<dbl>\u001b[39m\u001b[23m 0, 0, 0, 0, 0, 0, 0, 0, 0, 1, 0, 0, 0, 0, 0, 0, 0, 0…\n",
      "$ AUTUMN            \u001b[3m\u001b[90m<dbl>\u001b[39m\u001b[23m 0, 0, 0, 0, 0, 0, 0, 0, 0, 0, 0, 0, 0, 0, 0, 0, 0, 0…\n",
      "$ SPRING            \u001b[3m\u001b[90m<dbl>\u001b[39m\u001b[23m 0, 0, 0, 0, 0, 0, 0, 0, 0, 0, 0, 0, 0, 0, 0, 0, 0, 0…\n",
      "$ SUMMER            \u001b[3m\u001b[90m<dbl>\u001b[39m\u001b[23m 0, 0, 0, 0, 0, 0, 0, 0, 0, 0, 0, 0, 0, 0, 0, 0, 0, 0…\n",
      "$ WINTER            \u001b[3m\u001b[90m<dbl>\u001b[39m\u001b[23m 1, 1, 1, 1, 1, 1, 1, 1, 1, 1, 1, 1, 1, 1, 1, 1, 1, 1…\n"
     ]
    }
   ],
   "source": [
    "dataset_url <- \"https://cf-courses-data.s3.us.cloud-object-storage.appdomain.cloud/IBMDeveloperSkillsNetwork-RP0321EN-SkillsNetwork/labs/datasets/seoul_bike_sharing_converted_normalized.csv\"\n",
    "\n",
    "bike_sharing_df <- read_csv(dataset_url)\n",
    "bike_sharing_df <- select(bike_sharing_df, !\"FUNCTIONING_DAY\" & !\"DEW_POINT_TEMPERATURE\" & \n",
    "                          !\"SOLAR_RADIATION\" & !\"SNOWFALL\" & !\"RAINFALL\" & !\"HOLIDAY\" & !\"NO_HOLIDAY\")\n",
    "glimpse(bike_sharing_df)\n"
   ]
  },
  {
   "cell_type": "markdown",
   "id": "5819c669-961c-4859-927b-2abc70006fbf",
   "metadata": {},
   "source": [
    "Reserve 20% of observations for testing purposes."
   ]
  },
  {
   "cell_type": "code",
   "execution_count": 3,
   "id": "584b8903-85f9-45bc-bf2e-08071fd60804",
   "metadata": {},
   "outputs": [],
   "source": [
    "set.seed(4872)\n",
    "data_split <- initial_split(bike_sharing_df, prop=0.8)\n",
    "train_data <- training(data_split)\n",
    "test_data <- testing(data_split)"
   ]
  },
  {
   "cell_type": "markdown",
   "id": "1dc3e761-c9d8-4898-9825-afaa56b29371",
   "metadata": {},
   "source": [
    "Standardize formula in recipe:"
   ]
  },
  {
   "cell_type": "code",
   "execution_count": 4,
   "id": "bf5fb12d-7c5e-488a-adcc-34d6a7d55c87",
   "metadata": {},
   "outputs": [],
   "source": [
    "bike_demand_recipe <- \n",
    "  recipe(RENTED_BIKE_COUNT ~ ., data=train_data) %>%\n",
    "  update_role(\"DATE\", new_role=\"ID\")\n",
    "  "
   ]
  },
  {
   "cell_type": "markdown",
   "id": "87e496f0-2a42-4ed2-bb4b-d12a5ff9dba7",
   "metadata": {},
   "source": [
    "Set model specifications appropriate for count data:"
   ]
  },
  {
   "cell_type": "code",
   "execution_count": 5,
   "id": "b521a6fa-e4d7-4b57-aecd-9319516e6b43",
   "metadata": {},
   "outputs": [],
   "source": [
    "#Interpretable models\n",
    "linear_mod <- linear_reg(penalty=tune(), mixture=1, engine=\"glmnet\")\n",
    "\n",
    "count_mod <- poisson_reg(mode=\"regression\", penalty=tune(), mixture=1, engine=\"glmnet\")\n",
    "\n",
    "#Noninterpretable models\n",
    "rand_forest_mod <- rand_forest(mode=\"regression\", trees=1000,\n",
    "                              min_n=tune())\n",
    "\n",
    "boost_mod <- boost_tree(mode=\"regression\", engine=\"xgboost\", \n",
    "                        trees=1000, stop_iter=20,\n",
    "                       min_n=tune(), learn_rate=tune())\n"
   ]
  },
  {
   "cell_type": "markdown",
   "id": "d9214f9c-ec77-47b4-ab30-aec0a6b85d14",
   "metadata": {},
   "source": [
    "Workflow objects:"
   ]
  },
  {
   "cell_type": "code",
   "execution_count": 6,
   "id": "b668c08b-ef0d-4015-b41d-200fc92ec71d",
   "metadata": {},
   "outputs": [],
   "source": [
    "base_wf <- workflow() %>% add_recipe(bike_demand_recipe)\n",
    "\n",
    "linear_wf <- base_wf %>% add_model(linear_mod)\n",
    "\n",
    "count_wf <- base_wf %>% add_model(count_mod)\n",
    "\n",
    "forest_wf <- base_wf %>% add_model(rand_forest_mod)\n",
    "\n",
    "boost_wf <- base_wf %>% add_model(boost_mod)"
   ]
  },
  {
   "cell_type": "markdown",
   "id": "e5da6d1c-792d-42d8-9140-72a13cd85cb8",
   "metadata": {},
   "source": [
    "Tuning grids for hyperparameters:"
   ]
  },
  {
   "cell_type": "code",
   "execution_count": 8,
   "id": "77948021-bdd4-4fb1-8c2c-12167d3d0b9f",
   "metadata": {},
   "outputs": [],
   "source": [
    "cv_folds <- vfold_cv(train_data, v = 10)\n",
    "\n",
    "lasso_grid <- grid_regular(levels = 50,\n",
    "  penalty(range = c(-3, 0.3)))\n",
    "\n",
    "forest_grid <- grid_regular(levels=5,\n",
    "                            min_n())\n",
    "\n",
    "boost_grid <- grid_regular(levels=3,\n",
    "                           min_n(),\n",
    "                           learn_rate())"
   ]
  },
  {
   "cell_type": "markdown",
   "id": "b41be7ec-1258-4c16-9659-0614a5cf1a31",
   "metadata": {},
   "source": [
    "For each candidate model, tune hyperparameters using crossvalidation, test fit of best root mean squared error model on reserved testing data, and refit on full dataset. Recommend tuning boosting model separately, as it takes substantially longer to fit."
   ]
  },
  {
   "cell_type": "code",
   "execution_count": 9,
   "id": "097ec906-6676-4453-b6d9-fbd8ad7214c6",
   "metadata": {},
   "outputs": [],
   "source": [
    "linear_tune <- linear_wf %>% tune_grid(resamples=cv_folds, grid=lasso_grid)\n",
    "count_tune <- count_wf %>% tune_grid(resamples=cv_folds, grid=lasso_grid)\n",
    "\n",
    "best_linear <- linear_tune %>% select_best(metric=\"rmse\")\n",
    "best_count <- count_tune %>% select_best(metric=\"rmse\")\n",
    "\n",
    "final_linear <- linear_wf %>% finalize_workflow(best_linear)\n",
    "final_count <- count_wf %>% finalize_workflow(best_count)"
   ]
  },
  {
   "cell_type": "code",
   "execution_count": 10,
   "id": "7ed57b51-3945-4ef4-b787-97b87640c436",
   "metadata": {},
   "outputs": [],
   "source": [
    "forest_tune <- forest_wf %>% tune_grid(resamples=cv_folds, grid=forest_grid)\n",
    "best_forest <- forest_tune %>% select_best(metric=\"rmse\")\n",
    "final_forest <- forest_wf %>% finalize_workflow(best_forest)"
   ]
  },
  {
   "cell_type": "code",
   "execution_count": 11,
   "id": "d03cfafa-509e-4999-b862-a03f5aa1aa9b",
   "metadata": {},
   "outputs": [],
   "source": [
    "linear_fit <- final_linear %>% last_fit(data_split)\n",
    "count_fit <- final_count %>% last_fit(data_split)\n",
    "forest_fit <- final_forest %>% last_fit(data_split)"
   ]
  },
  {
   "cell_type": "code",
   "execution_count": 15,
   "id": "92160f08-51e2-4ea3-b493-5e00e19e754e",
   "metadata": {},
   "outputs": [],
   "source": [
    "boost_tune <- boost_wf %>% tune_grid(resamples=cv_folds, grid=boost_grid)\n",
    "best_boost <- boost_tune %>% select_best(metric=\"rmse\")\n",
    "final_boost <- boost_wf %>% finalize_workflow(best_boost)"
   ]
  },
  {
   "cell_type": "code",
   "execution_count": 16,
   "id": "e32e1094-9a4e-4caa-8045-82689c9053e3",
   "metadata": {},
   "outputs": [],
   "source": [
    "boost_fit <- final_boost %>% last_fit(data_split)"
   ]
  },
  {
   "cell_type": "code",
   "execution_count": 12,
   "id": "eddec786-ce69-4f64-9518-c27d76f25bd5",
   "metadata": {},
   "outputs": [
    {
     "data": {
      "text/html": [
       "<table class=\"dataframe\">\n",
       "<caption>A tibble: 2 × 4</caption>\n",
       "<thead>\n",
       "\t<tr><th scope=col>.metric</th><th scope=col>.estimator</th><th scope=col>.estimate</th><th scope=col>.config</th></tr>\n",
       "\t<tr><th scope=col>&lt;chr&gt;</th><th scope=col>&lt;chr&gt;</th><th scope=col>&lt;dbl&gt;</th><th scope=col>&lt;chr&gt;</th></tr>\n",
       "</thead>\n",
       "<tbody>\n",
       "\t<tr><td>rmse</td><td>standard</td><td>384.1508890</td><td>Preprocessor1_Model1</td></tr>\n",
       "\t<tr><td>rsq </td><td>standard</td><td>  0.6438476</td><td>Preprocessor1_Model1</td></tr>\n",
       "</tbody>\n",
       "</table>\n"
      ],
      "text/latex": [
       "A tibble: 2 × 4\n",
       "\\begin{tabular}{llll}\n",
       " .metric & .estimator & .estimate & .config\\\\\n",
       " <chr> & <chr> & <dbl> & <chr>\\\\\n",
       "\\hline\n",
       "\t rmse & standard & 384.1508890 & Preprocessor1\\_Model1\\\\\n",
       "\t rsq  & standard &   0.6438476 & Preprocessor1\\_Model1\\\\\n",
       "\\end{tabular}\n"
      ],
      "text/markdown": [
       "\n",
       "A tibble: 2 × 4\n",
       "\n",
       "| .metric &lt;chr&gt; | .estimator &lt;chr&gt; | .estimate &lt;dbl&gt; | .config &lt;chr&gt; |\n",
       "|---|---|---|---|\n",
       "| rmse | standard | 384.1508890 | Preprocessor1_Model1 |\n",
       "| rsq  | standard |   0.6438476 | Preprocessor1_Model1 |\n",
       "\n"
      ],
      "text/plain": [
       "  .metric .estimator .estimate   .config             \n",
       "1 rmse    standard   384.1508890 Preprocessor1_Model1\n",
       "2 rsq     standard     0.6438476 Preprocessor1_Model1"
      ]
     },
     "metadata": {},
     "output_type": "display_data"
    }
   ],
   "source": [
    "linear_fit %>% collect_metrics()"
   ]
  },
  {
   "cell_type": "code",
   "execution_count": 13,
   "id": "2a69bf29-e1cb-4aab-a5bc-66e7de5609e3",
   "metadata": {},
   "outputs": [
    {
     "data": {
      "text/html": [
       "<table class=\"dataframe\">\n",
       "<caption>A tibble: 2 × 4</caption>\n",
       "<thead>\n",
       "\t<tr><th scope=col>.metric</th><th scope=col>.estimator</th><th scope=col>.estimate</th><th scope=col>.config</th></tr>\n",
       "\t<tr><th scope=col>&lt;chr&gt;</th><th scope=col>&lt;chr&gt;</th><th scope=col>&lt;dbl&gt;</th><th scope=col>&lt;chr&gt;</th></tr>\n",
       "</thead>\n",
       "<tbody>\n",
       "\t<tr><td>rmse</td><td>standard</td><td>350.8023259</td><td>Preprocessor1_Model1</td></tr>\n",
       "\t<tr><td>rsq </td><td>standard</td><td>  0.7026592</td><td>Preprocessor1_Model1</td></tr>\n",
       "</tbody>\n",
       "</table>\n"
      ],
      "text/latex": [
       "A tibble: 2 × 4\n",
       "\\begin{tabular}{llll}\n",
       " .metric & .estimator & .estimate & .config\\\\\n",
       " <chr> & <chr> & <dbl> & <chr>\\\\\n",
       "\\hline\n",
       "\t rmse & standard & 350.8023259 & Preprocessor1\\_Model1\\\\\n",
       "\t rsq  & standard &   0.7026592 & Preprocessor1\\_Model1\\\\\n",
       "\\end{tabular}\n"
      ],
      "text/markdown": [
       "\n",
       "A tibble: 2 × 4\n",
       "\n",
       "| .metric &lt;chr&gt; | .estimator &lt;chr&gt; | .estimate &lt;dbl&gt; | .config &lt;chr&gt; |\n",
       "|---|---|---|---|\n",
       "| rmse | standard | 350.8023259 | Preprocessor1_Model1 |\n",
       "| rsq  | standard |   0.7026592 | Preprocessor1_Model1 |\n",
       "\n"
      ],
      "text/plain": [
       "  .metric .estimator .estimate   .config             \n",
       "1 rmse    standard   350.8023259 Preprocessor1_Model1\n",
       "2 rsq     standard     0.7026592 Preprocessor1_Model1"
      ]
     },
     "metadata": {},
     "output_type": "display_data"
    }
   ],
   "source": [
    "count_fit %>% collect_metrics()"
   ]
  },
  {
   "cell_type": "code",
   "execution_count": 14,
   "id": "6ef878ae-ed07-466c-969d-a2189207853d",
   "metadata": {},
   "outputs": [
    {
     "data": {
      "text/html": [
       "<table class=\"dataframe\">\n",
       "<caption>A tibble: 2 × 4</caption>\n",
       "<thead>\n",
       "\t<tr><th scope=col>.metric</th><th scope=col>.estimator</th><th scope=col>.estimate</th><th scope=col>.config</th></tr>\n",
       "\t<tr><th scope=col>&lt;chr&gt;</th><th scope=col>&lt;chr&gt;</th><th scope=col>&lt;dbl&gt;</th><th scope=col>&lt;chr&gt;</th></tr>\n",
       "</thead>\n",
       "<tbody>\n",
       "\t<tr><td>rmse</td><td>standard</td><td>278.6373747</td><td>Preprocessor1_Model1</td></tr>\n",
       "\t<tr><td>rsq </td><td>standard</td><td>  0.8219941</td><td>Preprocessor1_Model1</td></tr>\n",
       "</tbody>\n",
       "</table>\n"
      ],
      "text/latex": [
       "A tibble: 2 × 4\n",
       "\\begin{tabular}{llll}\n",
       " .metric & .estimator & .estimate & .config\\\\\n",
       " <chr> & <chr> & <dbl> & <chr>\\\\\n",
       "\\hline\n",
       "\t rmse & standard & 278.6373747 & Preprocessor1\\_Model1\\\\\n",
       "\t rsq  & standard &   0.8219941 & Preprocessor1\\_Model1\\\\\n",
       "\\end{tabular}\n"
      ],
      "text/markdown": [
       "\n",
       "A tibble: 2 × 4\n",
       "\n",
       "| .metric &lt;chr&gt; | .estimator &lt;chr&gt; | .estimate &lt;dbl&gt; | .config &lt;chr&gt; |\n",
       "|---|---|---|---|\n",
       "| rmse | standard | 278.6373747 | Preprocessor1_Model1 |\n",
       "| rsq  | standard |   0.8219941 | Preprocessor1_Model1 |\n",
       "\n"
      ],
      "text/plain": [
       "  .metric .estimator .estimate   .config             \n",
       "1 rmse    standard   278.6373747 Preprocessor1_Model1\n",
       "2 rsq     standard     0.8219941 Preprocessor1_Model1"
      ]
     },
     "metadata": {},
     "output_type": "display_data"
    }
   ],
   "source": [
    "forest_fit %>% collect_metrics()"
   ]
  },
  {
   "cell_type": "code",
   "execution_count": 17,
   "id": "eb91ecb5-a672-42a0-b433-7585e08b76f3",
   "metadata": {},
   "outputs": [
    {
     "data": {
      "text/html": [
       "<table class=\"dataframe\">\n",
       "<caption>A tibble: 2 × 4</caption>\n",
       "<thead>\n",
       "\t<tr><th scope=col>.metric</th><th scope=col>.estimator</th><th scope=col>.estimate</th><th scope=col>.config</th></tr>\n",
       "\t<tr><th scope=col>&lt;chr&gt;</th><th scope=col>&lt;chr&gt;</th><th scope=col>&lt;dbl&gt;</th><th scope=col>&lt;chr&gt;</th></tr>\n",
       "</thead>\n",
       "<tbody>\n",
       "\t<tr><td>rmse</td><td>standard</td><td>264.1593610</td><td>Preprocessor1_Model1</td></tr>\n",
       "\t<tr><td>rsq </td><td>standard</td><td>  0.8318869</td><td>Preprocessor1_Model1</td></tr>\n",
       "</tbody>\n",
       "</table>\n"
      ],
      "text/latex": [
       "A tibble: 2 × 4\n",
       "\\begin{tabular}{llll}\n",
       " .metric & .estimator & .estimate & .config\\\\\n",
       " <chr> & <chr> & <dbl> & <chr>\\\\\n",
       "\\hline\n",
       "\t rmse & standard & 264.1593610 & Preprocessor1\\_Model1\\\\\n",
       "\t rsq  & standard &   0.8318869 & Preprocessor1\\_Model1\\\\\n",
       "\\end{tabular}\n"
      ],
      "text/markdown": [
       "\n",
       "A tibble: 2 × 4\n",
       "\n",
       "| .metric &lt;chr&gt; | .estimator &lt;chr&gt; | .estimate &lt;dbl&gt; | .config &lt;chr&gt; |\n",
       "|---|---|---|---|\n",
       "| rmse | standard | 264.1593610 | Preprocessor1_Model1 |\n",
       "| rsq  | standard |   0.8318869 | Preprocessor1_Model1 |\n",
       "\n"
      ],
      "text/plain": [
       "  .metric .estimator .estimate   .config             \n",
       "1 rmse    standard   264.1593610 Preprocessor1_Model1\n",
       "2 rsq     standard     0.8318869 Preprocessor1_Model1"
      ]
     },
     "metadata": {},
     "output_type": "display_data"
    }
   ],
   "source": [
    "boost_fit %>% collect_metrics()"
   ]
  },
  {
   "cell_type": "markdown",
   "id": "66caf86a-f49d-4335-be26-750aca777b75",
   "metadata": {},
   "source": [
    "Save the champion model for use in dashboard."
   ]
  },
  {
   "cell_type": "code",
   "execution_count": 18,
   "id": "4855bc4f-85f6-4d98-85cb-9379079c23f4",
   "metadata": {},
   "outputs": [],
   "source": [
    "champ <- extract_workflow(boost_fit)"
   ]
  },
  {
   "cell_type": "code",
   "execution_count": 19,
   "id": "15a816ea-aac1-4c0a-950f-db89f53ba081",
   "metadata": {},
   "outputs": [],
   "source": [
    "saveRDS(champ, \"champion_model.R\")"
   ]
  },
  {
   "cell_type": "code",
   "execution_count": 67,
   "id": "9738e997-f1e3-44cf-a0a4-62737cdffd88",
   "metadata": {},
   "outputs": [
    {
     "data": {
      "text/plain": [
       "══ Workflow [trained] ══════════════════════════════════════════════════════════\n",
       "\u001b[3mPreprocessor:\u001b[23m Recipe\n",
       "\u001b[3mModel:\u001b[23m boost_tree()\n",
       "\n",
       "── Preprocessor ────────────────────────────────────────────────────────────────\n",
       "0 Recipe Steps\n",
       "\n",
       "── Model ───────────────────────────────────────────────────────────────────────\n",
       "##### xgb.Booster\n",
       "raw: 2 Mb \n",
       "call:\n",
       "  xgboost::xgb.train(params = list(eta = 0.1, max_depth = 6, gamma = 0, \n",
       "    colsample_bytree = 1, colsample_bynode = 1, min_child_weight = 30L, \n",
       "    subsample = 1), data = x$data, nrounds = 1000, watchlist = x$watchlist, \n",
       "    verbose = 0, early_stopping_rounds = 20, nthread = 1, objective = \"reg:squarederror\")\n",
       "params (as set within xgb.train):\n",
       "  eta = \"0.1\", max_depth = \"6\", gamma = \"0\", colsample_bytree = \"1\", colsample_bynode = \"1\", min_child_weight = \"30\", subsample = \"1\", nthread = \"1\", objective = \"reg:squarederror\", validate_parameters = \"TRUE\"\n",
       "xgb.attributes:\n",
       "  best_iteration, best_msg, best_ntreelimit, best_score, niter\n",
       "callbacks:\n",
       "  cb.evaluation.log()\n",
       "  cb.early.stop(stopping_rounds = early_stopping_rounds, maximize = maximize, \n",
       "    verbose = verbose)\n",
       "# of features: 38 \n",
       "niter: 1000\n",
       "best_iteration : 1000 \n",
       "best_ntreelimit : 1000 \n",
       "best_score : 106.8159 \n",
       "best_msg : [1000]\ttraining-rmse:106.815850 \n",
       "nfeatures : 38 \n",
       "evaluation_log:\n",
       "    iter training_rmse\n",
       "       1      887.7061\n",
       "       2      815.7021\n",
       "---                   \n",
       "     999      106.8587\n",
       "    1000      106.8159"
      ]
     },
     "metadata": {},
     "output_type": "display_data"
    }
   ],
   "source": [
    "champ"
   ]
  },
  {
   "cell_type": "code",
   "execution_count": 25,
   "id": "572cc2c5-7d48-4e28-b2ad-2a74b3bf1249",
   "metadata": {},
   "outputs": [],
   "source": [
    "champ <- readRDS(\"./champion_model.R\")\n",
    "forecasts <- champ %>% predict(train_data)"
   ]
  },
  {
   "cell_type": "code",
   "execution_count": 26,
   "id": "67b9f21b-2c31-4f2c-8d41-cecf67debd58",
   "metadata": {},
   "outputs": [
    {
     "name": "stdout",
     "output_type": "stream",
     "text": [
      "Rows: 6,772\n",
      "Columns: 1\n",
      "$ .pred \u001b[3m\u001b[90m<dbl>\u001b[39m\u001b[23m 2361.81519, 914.30731, 1621.66321, 91.48222, 603.95331, 388.4130…\n"
     ]
    }
   ],
   "source": [
    "glimpse(forecasts)"
   ]
  },
  {
   "cell_type": "code",
   "execution_count": 24,
   "id": "6623e90b-6f5e-4509-a0fb-a31d33d1a74c",
   "metadata": {},
   "outputs": [
    {
     "data": {
      "image/png": "[encoded data removed]",
      "text/plain": [
       "plot without title"
      ]
     },
     "metadata": {
      "image/png": {
       "height": 420,
       "width": 420
      }
     },
     "output_type": "display_data"
    }
   ],
   "source": [
    "champ %>% vip(num_features=20)"
   ]
  },
  {
   "cell_type": "markdown",
   "id": "e019f40b-2787-4f47-b3bd-9c56949bb509",
   "metadata": {},
   "source": [
    "##### "
   ]
  },
  {
   "cell_type": "code",
   "execution_count": 27,
   "id": "3c66e335-d3a8-4731-b6fd-9c91711b3cbc",
   "metadata": {},
   "outputs": [
    {
     "data": {
      "text/plain": [
       "     DATE           RENTED_BIKE_COUNT  TEMPERATURE        HUMIDITY     \n",
       " Length:8465        Min.   :   2.0    Min.   :0.0000   Min.   :0.0000  \n",
       " Class :character   1st Qu.: 214.0    1st Qu.:0.3636   1st Qu.:0.4286  \n",
       " Mode  :character   Median : 542.0    Median :0.5472   Median :0.5816  \n",
       "                    Mean   : 729.2    Mean   :0.5345   Mean   :0.5933  \n",
       "                    3rd Qu.:1084.0    3rd Qu.:0.7080   3rd Qu.:0.7551  \n",
       "                    Max.   :3556.0    Max.   :1.0000   Max.   :1.0000  \n",
       "   WIND_SPEED       VISIBILITY           0                 1          \n",
       " Min.   :0.0000   Min.   :0.0000   Min.   :0.00000   Min.   :0.00000  \n",
       " 1st Qu.:0.1216   1st Qu.:0.4602   1st Qu.:0.00000   1st Qu.:0.00000  \n",
       " Median :0.2027   Median :0.8429   Median :0.00000   Median :0.00000  \n",
       " Mean   :0.2332   Mean   :0.7131   Mean   :0.04158   Mean   :0.04158  \n",
       " 3rd Qu.:0.3108   3rd Qu.:1.0000   3rd Qu.:0.00000   3rd Qu.:0.00000  \n",
       " Max.   :1.0000   Max.   :1.0000   Max.   :1.00000   Max.   :1.00000  \n",
       "       10               11               12               13        \n",
       " Min.   :0.0000   Min.   :0.0000   Min.   :0.0000   Min.   :0.0000  \n",
       " 1st Qu.:0.0000   1st Qu.:0.0000   1st Qu.:0.0000   1st Qu.:0.0000  \n",
       " Median :0.0000   Median :0.0000   Median :0.0000   Median :0.0000  \n",
       " Mean   :0.0417   Mean   :0.0417   Mean   :0.0417   Mean   :0.0417  \n",
       " 3rd Qu.:0.0000   3rd Qu.:0.0000   3rd Qu.:0.0000   3rd Qu.:0.0000  \n",
       " Max.   :1.0000   Max.   :1.0000   Max.   :1.0000   Max.   :1.0000  \n",
       "       14               15               16               17        \n",
       " Min.   :0.0000   Min.   :0.0000   Min.   :0.0000   Min.   :0.0000  \n",
       " 1st Qu.:0.0000   1st Qu.:0.0000   1st Qu.:0.0000   1st Qu.:0.0000  \n",
       " Median :0.0000   Median :0.0000   Median :0.0000   Median :0.0000  \n",
       " Mean   :0.0417   Mean   :0.0417   Mean   :0.0417   Mean   :0.0417  \n",
       " 3rd Qu.:0.0000   3rd Qu.:0.0000   3rd Qu.:0.0000   3rd Qu.:0.0000  \n",
       " Max.   :1.0000   Max.   :1.0000   Max.   :1.0000   Max.   :1.0000  \n",
       "       18               19               2                 20        \n",
       " Min.   :0.0000   Min.   :0.0000   Min.   :0.00000   Min.   :0.0000  \n",
       " 1st Qu.:0.0000   1st Qu.:0.0000   1st Qu.:0.00000   1st Qu.:0.0000  \n",
       " Median :0.0000   Median :0.0000   Median :0.00000   Median :0.0000  \n",
       " Mean   :0.0417   Mean   :0.0417   Mean   :0.04158   Mean   :0.0417  \n",
       " 3rd Qu.:0.0000   3rd Qu.:0.0000   3rd Qu.:0.00000   3rd Qu.:0.0000  \n",
       " Max.   :1.0000   Max.   :1.0000   Max.   :1.00000   Max.   :1.0000  \n",
       "       21               22               23               3          \n",
       " Min.   :0.0000   Min.   :0.0000   Min.   :0.0000   Min.   :0.00000  \n",
       " 1st Qu.:0.0000   1st Qu.:0.0000   1st Qu.:0.0000   1st Qu.:0.00000  \n",
       " Median :0.0000   Median :0.0000   Median :0.0000   Median :0.00000  \n",
       " Mean   :0.0417   Mean   :0.0417   Mean   :0.0417   Mean   :0.04158  \n",
       " 3rd Qu.:0.0000   3rd Qu.:0.0000   3rd Qu.:0.0000   3rd Qu.:0.00000  \n",
       " Max.   :1.0000   Max.   :1.0000   Max.   :1.0000   Max.   :1.00000  \n",
       "       4                 5                 6                 7         \n",
       " Min.   :0.00000   Min.   :0.00000   Min.   :0.00000   Min.   :0.0000  \n",
       " 1st Qu.:0.00000   1st Qu.:0.00000   1st Qu.:0.00000   1st Qu.:0.0000  \n",
       " Median :0.00000   Median :0.00000   Median :0.00000   Median :0.0000  \n",
       " Mean   :0.04158   Mean   :0.04158   Mean   :0.04158   Mean   :0.0417  \n",
       " 3rd Qu.:0.00000   3rd Qu.:0.00000   3rd Qu.:0.00000   3rd Qu.:0.0000  \n",
       " Max.   :1.00000   Max.   :1.00000   Max.   :1.00000   Max.   :1.0000  \n",
       "       8                9              AUTUMN           SPRING      \n",
       " Min.   :0.0000   Min.   :0.0000   Min.   :0.0000   Min.   :0.0000  \n",
       " 1st Qu.:0.0000   1st Qu.:0.0000   1st Qu.:0.0000   1st Qu.:0.0000  \n",
       " Median :0.0000   Median :0.0000   Median :0.0000   Median :0.0000  \n",
       " Mean   :0.0417   Mean   :0.0417   Mean   :0.2288   Mean   :0.2552  \n",
       " 3rd Qu.:0.0000   3rd Qu.:0.0000   3rd Qu.:0.0000   3rd Qu.:1.0000  \n",
       " Max.   :1.0000   Max.   :1.0000   Max.   :1.0000   Max.   :1.0000  \n",
       "     SUMMER           WINTER      \n",
       " Min.   :0.0000   Min.   :0.0000  \n",
       " 1st Qu.:0.0000   1st Qu.:0.0000  \n",
       " Median :0.0000   Median :0.0000  \n",
       " Mean   :0.2608   Mean   :0.2552  \n",
       " 3rd Qu.:1.0000   3rd Qu.:1.0000  \n",
       " Max.   :1.0000   Max.   :1.0000  "
      ]
     },
     "metadata": {},
     "output_type": "display_data"
    }
   ],
   "source": [
    "summary(bike_sharing_df)"
   ]
  },
  {
   "cell_type": "code",
   "execution_count": null,
   "id": "05a954bf-dff5-4c50-9f60-640cb66d7917",
   "metadata": {},
   "outputs": [],
   "source": []
  }
 ],
 "metadata": {
  "kernelspec": {
   "display_name": "R",
   "language": "R",
   "name": "ir"
  },
  "language_info": {
   "codemirror_mode": "r",
   "file_extension": ".r",
   "mimetype": "text/x-r-source",
   "name": "R",
   "pygments_lexer": "r",
   "version": "4.3.3"
  }
 },
 "nbformat": 4,
 "nbformat_minor": 5
}
